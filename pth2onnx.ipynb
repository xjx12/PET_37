{
 "cells": [
  {
   "cell_type": "code",
   "execution_count": 1,
   "id": "f652fd53",
   "metadata": {},
   "outputs": [
    {
     "name": "stdout",
     "output_type": "stream",
     "text": [
      "device cpu\n"
     ]
    }
   ],
   "source": [
    "import torch\n",
    "from torchvision import models\n",
    "import torch.nn as nn\n",
    "\n",
    "device = torch.device('cuda:0' if torch.cuda.is_available() else 'cpu')\n",
    "print('device', device)"
   ]
  },
  {
   "cell_type": "code",
   "execution_count": 14,
   "id": "9eaa59f2",
   "metadata": {},
   "outputs": [],
   "source": [
    "if torch.backends.mps.is_available():\n",
    "    device = torch.device('mps')\n",
    "else:\n",
    "    device = torch.device('cpu')"
   ]
  },
  {
   "cell_type": "code",
   "execution_count": 15,
   "id": "d2190ebb",
   "metadata": {},
   "outputs": [
    {
     "name": "stdout",
     "output_type": "stream",
     "text": [
      "device mps\n"
     ]
    }
   ],
   "source": [
    "print('device',device)"
   ]
  },
  {
   "cell_type": "code",
   "execution_count": 2,
   "id": "0d3017c4",
   "metadata": {},
   "outputs": [],
   "source": [
    "model = torch.load('./pet_37.pth')\n",
    "model = model.eval().to(device)"
   ]
  },
  {
   "cell_type": "code",
   "execution_count": 3,
   "id": "b5ece44c",
   "metadata": {},
   "outputs": [],
   "source": [
    "x = torch.randn(1, 3, 224, 224).to(device)"
   ]
  },
  {
   "cell_type": "code",
   "execution_count": 4,
   "id": "d369050a",
   "metadata": {},
   "outputs": [],
   "source": [
    "output = model(x)"
   ]
  },
  {
   "cell_type": "code",
   "execution_count": 5,
   "id": "c2eae29b",
   "metadata": {},
   "outputs": [
    {
     "data": {
      "text/plain": [
       "torch.Size([1, 37])"
      ]
     },
     "execution_count": 5,
     "metadata": {},
     "output_type": "execute_result"
    }
   ],
   "source": [
    "output.shape"
   ]
  },
  {
   "cell_type": "code",
   "execution_count": 6,
   "id": "fa681599",
   "metadata": {},
   "outputs": [],
   "source": [
    "x = torch.randn(1, 3, 224, 224).to(device)\n",
    "\n",
    "with torch.no_grad():\n",
    "    torch.onnx.export(\n",
    "        model,                   # 要转换的模型\n",
    "        x,                       # 模型的任意一组输入\n",
    "        'pet_37.onnx', # 导出的 ONNX 文件名\n",
    "        opset_version=11,        # ONNX 算子集版本\n",
    "        input_names=['input'],   # 输入 Tensor 的名称（自己起名字）\n",
    "        output_names=['output']  # 输出 Tensor 的名称（自己起名字）\n",
    "    ) "
   ]
  },
  {
   "cell_type": "code",
   "execution_count": 7,
   "id": "94050e70",
   "metadata": {},
   "outputs": [
    {
     "name": "stdout",
     "output_type": "stream",
     "text": [
      "无报错，onnx模型载入成功\n"
     ]
    }
   ],
   "source": [
    "import onnx\n",
    "\n",
    "# 读取 ONNX 模型\n",
    "onnx_model = onnx.load('pet_37.onnx')\n",
    "\n",
    "# 检查模型格式是否正确\n",
    "onnx.checker.check_model(onnx_model)\n",
    "\n",
    "print('无报错，onnx模型载入成功')"
   ]
  },
  {
   "cell_type": "code",
   "execution_count": 8,
   "id": "a4efeda0",
   "metadata": {},
   "outputs": [
    {
     "name": "stdout",
     "output_type": "stream",
     "text": [
      "graph main_graph (\n",
      "  %input[FLOAT, 1x3x224x224]\n",
      ") initializers (\n",
      "  %fc.weight[FLOAT, 37x512]\n",
      "  %fc.bias[FLOAT, 37]\n",
      "  %onnx::Conv_193[FLOAT, 64x3x7x7]\n",
      "  %onnx::Conv_194[FLOAT, 64]\n",
      "  %onnx::Conv_196[FLOAT, 64x64x3x3]\n",
      "  %onnx::Conv_197[FLOAT, 64]\n",
      "  %onnx::Conv_199[FLOAT, 64x64x3x3]\n",
      "  %onnx::Conv_200[FLOAT, 64]\n",
      "  %onnx::Conv_202[FLOAT, 64x64x3x3]\n",
      "  %onnx::Conv_203[FLOAT, 64]\n",
      "  %onnx::Conv_205[FLOAT, 64x64x3x3]\n",
      "  %onnx::Conv_206[FLOAT, 64]\n",
      "  %onnx::Conv_208[FLOAT, 128x64x3x3]\n",
      "  %onnx::Conv_209[FLOAT, 128]\n",
      "  %onnx::Conv_211[FLOAT, 128x128x3x3]\n",
      "  %onnx::Conv_212[FLOAT, 128]\n",
      "  %onnx::Conv_214[FLOAT, 128x64x1x1]\n",
      "  %onnx::Conv_215[FLOAT, 128]\n",
      "  %onnx::Conv_217[FLOAT, 128x128x3x3]\n",
      "  %onnx::Conv_218[FLOAT, 128]\n",
      "  %onnx::Conv_220[FLOAT, 128x128x3x3]\n",
      "  %onnx::Conv_221[FLOAT, 128]\n",
      "  %onnx::Conv_223[FLOAT, 256x128x3x3]\n",
      "  %onnx::Conv_224[FLOAT, 256]\n",
      "  %onnx::Conv_226[FLOAT, 256x256x3x3]\n",
      "  %onnx::Conv_227[FLOAT, 256]\n",
      "  %onnx::Conv_229[FLOAT, 256x128x1x1]\n",
      "  %onnx::Conv_230[FLOAT, 256]\n",
      "  %onnx::Conv_232[FLOAT, 256x256x3x3]\n",
      "  %onnx::Conv_233[FLOAT, 256]\n",
      "  %onnx::Conv_235[FLOAT, 256x256x3x3]\n",
      "  %onnx::Conv_236[FLOAT, 256]\n",
      "  %onnx::Conv_238[FLOAT, 512x256x3x3]\n",
      "  %onnx::Conv_239[FLOAT, 512]\n",
      "  %onnx::Conv_241[FLOAT, 512x512x3x3]\n",
      "  %onnx::Conv_242[FLOAT, 512]\n",
      "  %onnx::Conv_244[FLOAT, 512x256x1x1]\n",
      "  %onnx::Conv_245[FLOAT, 512]\n",
      "  %onnx::Conv_247[FLOAT, 512x512x3x3]\n",
      "  %onnx::Conv_248[FLOAT, 512]\n",
      "  %onnx::Conv_250[FLOAT, 512x512x3x3]\n",
      "  %onnx::Conv_251[FLOAT, 512]\n",
      ") {\n",
      "  %/conv1/Conv_output_0 = Conv[dilations = [1, 1], group = 1, kernel_shape = [7, 7], pads = [3, 3, 3, 3], strides = [2, 2]](%input, %onnx::Conv_193, %onnx::Conv_194)\n",
      "  %/relu/Relu_output_0 = Relu(%/conv1/Conv_output_0)\n",
      "  %/maxpool/MaxPool_output_0 = MaxPool[ceil_mode = 0, kernel_shape = [3, 3], pads = [1, 1, 1, 1], strides = [2, 2]](%/relu/Relu_output_0)\n",
      "  %/layer1/layer1.0/conv1/Conv_output_0 = Conv[dilations = [1, 1], group = 1, kernel_shape = [3, 3], pads = [1, 1, 1, 1], strides = [1, 1]](%/maxpool/MaxPool_output_0, %onnx::Conv_196, %onnx::Conv_197)\n",
      "  %/layer1/layer1.0/relu/Relu_output_0 = Relu(%/layer1/layer1.0/conv1/Conv_output_0)\n",
      "  %/layer1/layer1.0/conv2/Conv_output_0 = Conv[dilations = [1, 1], group = 1, kernel_shape = [3, 3], pads = [1, 1, 1, 1], strides = [1, 1]](%/layer1/layer1.0/relu/Relu_output_0, %onnx::Conv_199, %onnx::Conv_200)\n",
      "  %/layer1/layer1.0/Add_output_0 = Add(%/layer1/layer1.0/conv2/Conv_output_0, %/maxpool/MaxPool_output_0)\n",
      "  %/layer1/layer1.0/relu_1/Relu_output_0 = Relu(%/layer1/layer1.0/Add_output_0)\n",
      "  %/layer1/layer1.1/conv1/Conv_output_0 = Conv[dilations = [1, 1], group = 1, kernel_shape = [3, 3], pads = [1, 1, 1, 1], strides = [1, 1]](%/layer1/layer1.0/relu_1/Relu_output_0, %onnx::Conv_202, %onnx::Conv_203)\n",
      "  %/layer1/layer1.1/relu/Relu_output_0 = Relu(%/layer1/layer1.1/conv1/Conv_output_0)\n",
      "  %/layer1/layer1.1/conv2/Conv_output_0 = Conv[dilations = [1, 1], group = 1, kernel_shape = [3, 3], pads = [1, 1, 1, 1], strides = [1, 1]](%/layer1/layer1.1/relu/Relu_output_0, %onnx::Conv_205, %onnx::Conv_206)\n",
      "  %/layer1/layer1.1/Add_output_0 = Add(%/layer1/layer1.1/conv2/Conv_output_0, %/layer1/layer1.0/relu_1/Relu_output_0)\n",
      "  %/layer1/layer1.1/relu_1/Relu_output_0 = Relu(%/layer1/layer1.1/Add_output_0)\n",
      "  %/layer2/layer2.0/conv1/Conv_output_0 = Conv[dilations = [1, 1], group = 1, kernel_shape = [3, 3], pads = [1, 1, 1, 1], strides = [2, 2]](%/layer1/layer1.1/relu_1/Relu_output_0, %onnx::Conv_208, %onnx::Conv_209)\n",
      "  %/layer2/layer2.0/relu/Relu_output_0 = Relu(%/layer2/layer2.0/conv1/Conv_output_0)\n",
      "  %/layer2/layer2.0/conv2/Conv_output_0 = Conv[dilations = [1, 1], group = 1, kernel_shape = [3, 3], pads = [1, 1, 1, 1], strides = [1, 1]](%/layer2/layer2.0/relu/Relu_output_0, %onnx::Conv_211, %onnx::Conv_212)\n",
      "  %/layer2/layer2.0/downsample/downsample.0/Conv_output_0 = Conv[dilations = [1, 1], group = 1, kernel_shape = [1, 1], pads = [0, 0, 0, 0], strides = [2, 2]](%/layer1/layer1.1/relu_1/Relu_output_0, %onnx::Conv_214, %onnx::Conv_215)\n",
      "  %/layer2/layer2.0/Add_output_0 = Add(%/layer2/layer2.0/conv2/Conv_output_0, %/layer2/layer2.0/downsample/downsample.0/Conv_output_0)\n",
      "  %/layer2/layer2.0/relu_1/Relu_output_0 = Relu(%/layer2/layer2.0/Add_output_0)\n",
      "  %/layer2/layer2.1/conv1/Conv_output_0 = Conv[dilations = [1, 1], group = 1, kernel_shape = [3, 3], pads = [1, 1, 1, 1], strides = [1, 1]](%/layer2/layer2.0/relu_1/Relu_output_0, %onnx::Conv_217, %onnx::Conv_218)\n",
      "  %/layer2/layer2.1/relu/Relu_output_0 = Relu(%/layer2/layer2.1/conv1/Conv_output_0)\n",
      "  %/layer2/layer2.1/conv2/Conv_output_0 = Conv[dilations = [1, 1], group = 1, kernel_shape = [3, 3], pads = [1, 1, 1, 1], strides = [1, 1]](%/layer2/layer2.1/relu/Relu_output_0, %onnx::Conv_220, %onnx::Conv_221)\n",
      "  %/layer2/layer2.1/Add_output_0 = Add(%/layer2/layer2.1/conv2/Conv_output_0, %/layer2/layer2.0/relu_1/Relu_output_0)\n",
      "  %/layer2/layer2.1/relu_1/Relu_output_0 = Relu(%/layer2/layer2.1/Add_output_0)\n",
      "  %/layer3/layer3.0/conv1/Conv_output_0 = Conv[dilations = [1, 1], group = 1, kernel_shape = [3, 3], pads = [1, 1, 1, 1], strides = [2, 2]](%/layer2/layer2.1/relu_1/Relu_output_0, %onnx::Conv_223, %onnx::Conv_224)\n",
      "  %/layer3/layer3.0/relu/Relu_output_0 = Relu(%/layer3/layer3.0/conv1/Conv_output_0)\n",
      "  %/layer3/layer3.0/conv2/Conv_output_0 = Conv[dilations = [1, 1], group = 1, kernel_shape = [3, 3], pads = [1, 1, 1, 1], strides = [1, 1]](%/layer3/layer3.0/relu/Relu_output_0, %onnx::Conv_226, %onnx::Conv_227)\n",
      "  %/layer3/layer3.0/downsample/downsample.0/Conv_output_0 = Conv[dilations = [1, 1], group = 1, kernel_shape = [1, 1], pads = [0, 0, 0, 0], strides = [2, 2]](%/layer2/layer2.1/relu_1/Relu_output_0, %onnx::Conv_229, %onnx::Conv_230)\n",
      "  %/layer3/layer3.0/Add_output_0 = Add(%/layer3/layer3.0/conv2/Conv_output_0, %/layer3/layer3.0/downsample/downsample.0/Conv_output_0)\n",
      "  %/layer3/layer3.0/relu_1/Relu_output_0 = Relu(%/layer3/layer3.0/Add_output_0)\n",
      "  %/layer3/layer3.1/conv1/Conv_output_0 = Conv[dilations = [1, 1], group = 1, kernel_shape = [3, 3], pads = [1, 1, 1, 1], strides = [1, 1]](%/layer3/layer3.0/relu_1/Relu_output_0, %onnx::Conv_232, %onnx::Conv_233)\n",
      "  %/layer3/layer3.1/relu/Relu_output_0 = Relu(%/layer3/layer3.1/conv1/Conv_output_0)\n",
      "  %/layer3/layer3.1/conv2/Conv_output_0 = Conv[dilations = [1, 1], group = 1, kernel_shape = [3, 3], pads = [1, 1, 1, 1], strides = [1, 1]](%/layer3/layer3.1/relu/Relu_output_0, %onnx::Conv_235, %onnx::Conv_236)\n",
      "  %/layer3/layer3.1/Add_output_0 = Add(%/layer3/layer3.1/conv2/Conv_output_0, %/layer3/layer3.0/relu_1/Relu_output_0)\n",
      "  %/layer3/layer3.1/relu_1/Relu_output_0 = Relu(%/layer3/layer3.1/Add_output_0)\n",
      "  %/layer4/layer4.0/conv1/Conv_output_0 = Conv[dilations = [1, 1], group = 1, kernel_shape = [3, 3], pads = [1, 1, 1, 1], strides = [2, 2]](%/layer3/layer3.1/relu_1/Relu_output_0, %onnx::Conv_238, %onnx::Conv_239)\n",
      "  %/layer4/layer4.0/relu/Relu_output_0 = Relu(%/layer4/layer4.0/conv1/Conv_output_0)\n",
      "  %/layer4/layer4.0/conv2/Conv_output_0 = Conv[dilations = [1, 1], group = 1, kernel_shape = [3, 3], pads = [1, 1, 1, 1], strides = [1, 1]](%/layer4/layer4.0/relu/Relu_output_0, %onnx::Conv_241, %onnx::Conv_242)\n",
      "  %/layer4/layer4.0/downsample/downsample.0/Conv_output_0 = Conv[dilations = [1, 1], group = 1, kernel_shape = [1, 1], pads = [0, 0, 0, 0], strides = [2, 2]](%/layer3/layer3.1/relu_1/Relu_output_0, %onnx::Conv_244, %onnx::Conv_245)\n",
      "  %/layer4/layer4.0/Add_output_0 = Add(%/layer4/layer4.0/conv2/Conv_output_0, %/layer4/layer4.0/downsample/downsample.0/Conv_output_0)\n",
      "  %/layer4/layer4.0/relu_1/Relu_output_0 = Relu(%/layer4/layer4.0/Add_output_0)\n",
      "  %/layer4/layer4.1/conv1/Conv_output_0 = Conv[dilations = [1, 1], group = 1, kernel_shape = [3, 3], pads = [1, 1, 1, 1], strides = [1, 1]](%/layer4/layer4.0/relu_1/Relu_output_0, %onnx::Conv_247, %onnx::Conv_248)\n",
      "  %/layer4/layer4.1/relu/Relu_output_0 = Relu(%/layer4/layer4.1/conv1/Conv_output_0)\n",
      "  %/layer4/layer4.1/conv2/Conv_output_0 = Conv[dilations = [1, 1], group = 1, kernel_shape = [3, 3], pads = [1, 1, 1, 1], strides = [1, 1]](%/layer4/layer4.1/relu/Relu_output_0, %onnx::Conv_250, %onnx::Conv_251)\n",
      "  %/layer4/layer4.1/Add_output_0 = Add(%/layer4/layer4.1/conv2/Conv_output_0, %/layer4/layer4.0/relu_1/Relu_output_0)\n",
      "  %/layer4/layer4.1/relu_1/Relu_output_0 = Relu(%/layer4/layer4.1/Add_output_0)\n",
      "  %/avgpool/GlobalAveragePool_output_0 = GlobalAveragePool(%/layer4/layer4.1/relu_1/Relu_output_0)\n",
      "  %/Flatten_output_0 = Flatten[axis = 1](%/avgpool/GlobalAveragePool_output_0)\n",
      "  %output = Gemm[alpha = 1, beta = 1, transB = 1](%/Flatten_output_0, %fc.weight, %fc.bias)\n",
      "  return %output\n",
      "}\n"
     ]
    }
   ],
   "source": [
    "print(onnx.helper.printable_graph(onnx_model.graph))"
   ]
  },
  {
   "cell_type": "code",
   "execution_count": null,
   "id": "8af21ada",
   "metadata": {},
   "outputs": [],
   "source": []
  }
 ],
 "metadata": {
  "kernelspec": {
   "display_name": "Python 3 (ipykernel)",
   "language": "python",
   "name": "python3"
  },
  "language_info": {
   "codemirror_mode": {
    "name": "ipython",
    "version": 3
   },
   "file_extension": ".py",
   "mimetype": "text/x-python",
   "name": "python",
   "nbconvert_exporter": "python",
   "pygments_lexer": "ipython3",
   "version": "3.9.18"
  }
 },
 "nbformat": 4,
 "nbformat_minor": 5
}
