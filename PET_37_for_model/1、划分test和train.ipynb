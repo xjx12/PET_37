{
 "cells": [
  {
   "cell_type": "code",
   "execution_count": 1,
   "id": "78a2f312",
   "metadata": {},
   "outputs": [],
   "source": [
    "import os\n",
    "import shutil"
   ]
  },
  {
   "cell_type": "code",
   "execution_count": 2,
   "id": "e22dddaf",
   "metadata": {},
   "outputs": [],
   "source": [
    "# 定义数据集文件夹路径\n",
    "dataset_dir = './oxford-iiit-pet'\n",
    "\n",
    "# 定义训练集和测试集文件路径\n",
    "trainval_file = os.path.join(dataset_dir, 'annotations', 'trainval.txt')\n",
    "test_file = os.path.join(dataset_dir, 'annotations', 'test.txt')\n",
    "\n",
    "# 定义训练集和测试集目标文件夹路径\n",
    "train_dir = os.path.join(dataset_dir, 'train')\n",
    "test_dir = os.path.join(dataset_dir, 'test')\n",
    "\n",
    "# 创建训练集和测试集目标文件夹\n",
    "os.makedirs(train_dir, exist_ok=True)\n",
    "os.makedirs(test_dir, exist_ok=True)\n",
    "\n",
    "# 读取trainval.txt文件，将对应的图片移动到训练集目标文件夹中\n",
    "with open(trainval_file, 'r') as f:\n",
    "    lines = f.readlines()[6:]  # 跳过文件前6行的注释行\n",
    "    for line in lines:\n",
    "        filename = line.split()[0] + '.jpg'  # 获取图片文件名\n",
    "        src_path = os.path.join(dataset_dir, 'images', filename)  # 图片源文件路径\n",
    "        dst_path = os.path.join(train_dir, filename)  # 图片目标文件路径\n",
    "        shutil.copy(src_path, dst_path)  # 复制图片到训练集目标文件夹\n",
    "        \n",
    "#test集同理\n",
    "with open(test_file, 'r') as f:\n",
    "    lines = f.readlines()[6:]  \n",
    "    for line in lines:\n",
    "        filename = line.split()[0] + '.jpg'  \n",
    "        src_path = os.path.join(dataset_dir, 'images', filename)  \n",
    "        dst_path = os.path.join(test_dir, filename) \n",
    "        shutil.copy(src_path, dst_path) \n"
   ]
  },
  {
   "cell_type": "code",
   "execution_count": null,
   "id": "41731948",
   "metadata": {},
   "outputs": [],
   "source": []
  }
 ],
 "metadata": {
  "kernelspec": {
   "display_name": "Python 3 (ipykernel)",
   "language": "python",
   "name": "python3"
  },
  "language_info": {
   "codemirror_mode": {
    "name": "ipython",
    "version": 3
   },
   "file_extension": ".py",
   "mimetype": "text/x-python",
   "name": "python",
   "nbconvert_exporter": "python",
   "pygments_lexer": "ipython3",
   "version": "3.9.18"
  }
 },
 "nbformat": 4,
 "nbformat_minor": 5
}
